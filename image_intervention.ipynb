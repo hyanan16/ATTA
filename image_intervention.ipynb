{
 "cells": [
  {
   "cell_type": "code",
   "execution_count": 1,
   "metadata": {
    "collapsed": true
   },
   "outputs": [
    {
     "name": "stderr",
     "output_type": "stream",
     "text": [
      "/data/shurui.gui/anaconda3/envs/torch_110/lib/python3.8/site-packages/tqdm/auto.py:22: TqdmWarning: IProgress not found. Please update jupyter and ipywidgets. See https://ipywidgets.readthedocs.io/en/stable/user_install.html\n",
      "  from .autonotebook import tqdm as notebook_tqdm\n"
     ]
    },
    {
     "name": "stdout",
     "output_type": "stream",
     "text": [
      "['--task', 'train', '--config_path', 'TTA_configs/CMNIST/TICP.yaml', '--gpu_idx', '4', '--exp_round', '1']\n"
     ]
    },
    {
     "name": "stderr",
     "output_type": "stream",
     "text": [
      "/data/shurui.gui/Projects/TTA/GraphTTA/GTTA/utils/config_reader.py:176: UserWarning: Missing argument \"config_path\" in the config file.\n",
      "/data/shurui.gui/Projects/TTA/GraphTTA/GTTA/utils/config_reader.py:172: UserWarning: Missing argument \"test_ckpt\" in the config file.\n",
      "/data/shurui.gui/Projects/TTA/GraphTTA/GTTA/utils/config_reader.py:172: UserWarning: Missing argument \"id_test_ckpt\" in the config file.\n",
      "/data/shurui.gui/Projects/TTA/GraphTTA/GTTA/utils/config_reader.py:172: UserWarning: Missing argument \"full_clean\" in the config file.\n",
      "/data/shurui.gui/Projects/TTA/GraphTTA/GTTA/utils/config_reader.py:172: UserWarning: Missing argument \"log_path\" in the config file.\n",
      "/data/shurui.gui/Projects/TTA/GraphTTA/GTTA/utils/config_reader.py:172: UserWarning: Missing argument \"tensorboard_logdir\" in the config file.\n",
      "/data/shurui.gui/Projects/TTA/GraphTTA/GTTA/utils/config_reader.py:176: UserWarning: Missing argument \"model.model_level\" in the config file.\n",
      "/data/shurui.gui/Projects/TTA/GraphTTA/GTTA/utils/config_reader.py:172: UserWarning: Missing argument \"model.nonlinear_classifier\" in the config file.\n",
      "/data/shurui.gui/Projects/TTA/GraphTTA/GTTA/utils/config_reader.py:172: UserWarning: Missing argument \"model.resnet18\" in the config file.\n",
      "/data/shurui.gui/Projects/TTA/GraphTTA/GTTA/utils/config_reader.py:172: UserWarning: Missing argument \"model.resnet_dropout\" in the config file.\n",
      "/data/shurui.gui/Projects/TTA/GraphTTA/GTTA/utils/config_reader.py:172: UserWarning: Missing argument \"dataset.shift_type\" in the config file.\n",
      "/data/shurui.gui/Projects/TTA/GraphTTA/GTTA/utils/config_reader.py:172: UserWarning: Missing argument \"dataset.domain\" in the config file.\n",
      "/data/shurui.gui/Projects/TTA/GraphTTA/GTTA/utils/config_reader.py:172: UserWarning: Missing argument \"dataset.dataset_type\" in the config file.\n",
      "/data/shurui.gui/Projects/TTA/GraphTTA/GTTA/utils/config_reader.py:172: UserWarning: Missing argument \"dataset.class_balanced\" in the config file.\n",
      "/data/shurui.gui/Projects/TTA/GraphTTA/GTTA/utils/config_reader.py:172: UserWarning: Missing argument \"dataset.num_domains\" in the config file.\n",
      "/data/shurui.gui/Projects/TTA/GraphTTA/GTTA/utils/config_reader.py:185: UserWarning: Missing argument \"dataset.test_envs\" in CLI parser classes, which is shown in the config file.\n",
      "/data/shurui.gui/Projects/TTA/GraphTTA/GTTA/utils/config_reader.py:176: UserWarning: Missing argument \"tta.SAR\" in the config file.\n",
      "/data/shurui.gui/Projects/TTA/GraphTTA/GTTA/utils/config_reader.py:172: UserWarning: Missing argument \"tta.SAR.steps\" in the config file.\n",
      "/data/shurui.gui/Projects/TTA/GraphTTA/GTTA/utils/config_reader.py:172: UserWarning: Missing argument \"tta.SAR.reset_constant_em\" in the config file.\n",
      "/data/shurui.gui/Projects/TTA/GraphTTA/GTTA/utils/config_reader.py:172: UserWarning: Missing argument \"tta.SAR.lr\" in the config file.\n",
      "/data/shurui.gui/Projects/TTA/GraphTTA/GTTA/utils/config_reader.py:176: UserWarning: Missing argument \"tta.Tent\" in the config file.\n",
      "/data/shurui.gui/Projects/TTA/GraphTTA/GTTA/utils/config_reader.py:172: UserWarning: Missing argument \"tta.Tent.steps\" in the config file.\n",
      "/data/shurui.gui/Projects/TTA/GraphTTA/GTTA/utils/config_reader.py:172: UserWarning: Missing argument \"tta.Tent.lr\" in the config file.\n",
      "/data/shurui.gui/Projects/TTA/GraphTTA/GTTA/utils/config_reader.py:172: UserWarning: Missing argument \"tta.TICP.test_interval\" in the config file.\n",
      "/data/shurui.gui/Projects/TTA/GraphTTA/GTTA/utils/config_reader.py:172: UserWarning: Missing argument \"tta.TICP.train_linear_classifier\" in the config file.\n"
     ]
    },
    {
     "name": "stdout",
     "output_type": "stream",
     "text": [
      "#IN#\n",
      "-----------------------------------\n",
      "    Task: train\n",
      "Wed Mar 29 22:47:12 2023\n",
      "#IN#Load Dataset ColoredMNIST\n",
      "#D#Dataset: {'train': <torch.utils.data.dataset.ConcatDataset object at 0x7f4126ff2e80>, 'test': <torch.utils.data.dataset.ConcatDataset object at 0x7f4126ff2df0>, 'metric': 'Accuracy', 'task': 'Binary classification'}\n",
      "#D# (tensor([[[0., 0., 0.,  ..., 0., 0., 0.],\n",
      "         [0., 0., 0.,  ..., 0., 0., 0.],\n",
      "         [0., 0., 0.,  ..., 0., 0., 0.],\n",
      "         ...,\n",
      "         [0., 0., 0.,  ..., 0., 0., 0.],\n",
      "         [0., 0., 0.,  ..., 0., 0., 0.],\n",
      "         [0., 0., 0.,  ..., 0., 0., 0.]],\n",
      "\n",
      "        [[0., 0., 0.,  ..., 0., 0., 0.],\n",
      "         [0., 0., 0.,  ..., 0., 0., 0.],\n",
      "         [0., 0., 0.,  ..., 0., 0., 0.],\n",
      "         ...,\n",
      "         [0., 0., 0.,  ..., 0., 0., 0.],\n",
      "         [0., 0., 0.,  ..., 0., 0., 0.],\n",
      "         [0., 0., 0.,  ..., 0., 0., 0.]]]), tensor([1.]))\n",
      "#IN#Loading model...\n",
      "MNIST_CNN(\n",
      "  (conv1): Conv2d(2, 64, kernel_size=(3, 3), stride=(1, 1), padding=(1, 1))\n",
      "  (conv2): Conv2d(64, 128, kernel_size=(3, 3), stride=(2, 2), padding=(1, 1))\n",
      "  (conv3): Conv2d(128, 128, kernel_size=(3, 3), stride=(1, 1), padding=(1, 1))\n",
      "  (conv4): Conv2d(128, 128, kernel_size=(3, 3), stride=(1, 1), padding=(1, 1))\n",
      "  (bn0): GroupNorm(8, 64, eps=1e-05, affine=True)\n",
      "  (bn1): GroupNorm(8, 128, eps=1e-05, affine=True)\n",
      "  (bn2): GroupNorm(8, 128, eps=1e-05, affine=True)\n",
      "  (bn3): GroupNorm(8, 128, eps=1e-05, affine=True)\n",
      "  (avgpool): AdaptiveAvgPool2d(output_size=(1, 1))\n",
      ")\n"
     ]
    }
   ],
   "source": [
    "import shlex\n",
    "import time\n",
    "from typing import Tuple, Union\n",
    "\n",
    "import torch.nn\n",
    "from torch.utils.data import DataLoader\n",
    "\n",
    "from GTTA import config_summoner\n",
    "from GTTA.data import load_dataset, create_dataloader\n",
    "from GTTA.utils.load_manager import load_pipeline, load_tta_algorithm, load_model, load_alg\n",
    "from GTTA.utils.args import args_parser\n",
    "from GTTA.utils.config_reader import Conf\n",
    "from GTTA.utils.initial import reset_random_seed\n",
    "from GTTA.utils.logger import load_logger\n",
    "from GTTA.definitions import OOM_CODE\n",
    "from GTTA.kernel.main import initialize_model_dataset\n",
    "\n",
    "argv = shlex.split('--task train --config_path TTA_configs/CMNIST/TICP.yaml --gpu_idx 4 --exp_round 1')\n",
    "print(argv)\n",
    "args = args_parser(argv)\n",
    "config = config_summoner(args)\n",
    "model, loader = initialize_model_dataset(config)\n",
    "ood_algorithm = load_alg(config.ood.alg, config)\n",
    "\n",
    "ticp = load_tta_algorithm(config.tta.name, config.task, model, loader, ood_algorithm, config)"
   ]
  },
  {
   "cell_type": "code",
   "execution_count": 2,
   "outputs": [],
   "source": [
    "train_or_load = 'load'\n",
    "ticp.train_vae(train_or_load)\n",
    "ticp.mu_all, ticp.logvar_all = ticp.record_feature_distributions(train_or_load)\n",
    "ticp.pseudo_environments = ticp.create_pseudo_environments(train_or_load)\n",
    "ticp.train_linear_classifiers(ticp.pseudo_environments, train_or_load)"
   ],
   "metadata": {
    "collapsed": false,
    "pycharm": {
     "name": "#%%\n"
    }
   }
  },
  {
   "cell_type": "code",
   "execution_count": 31,
   "outputs": [],
   "source": [
    "data = next(iter(ticp.loader['train']))[0].to(ticp.config.device)"
   ],
   "metadata": {
    "collapsed": false,
    "pycharm": {
     "name": "#%%\n"
    }
   }
  },
  {
   "cell_type": "code",
   "execution_count": 32,
   "outputs": [
    {
     "name": "stdout",
     "output_type": "stream",
     "text": [
      "torch.Size([64, 2, 28, 28])\n"
     ]
    }
   ],
   "source": [
    "print(data.shape)"
   ],
   "metadata": {
    "collapsed": false,
    "pycharm": {
     "name": "#%%\n"
    }
   }
  },
  {
   "cell_type": "code",
   "execution_count": 33,
   "outputs": [],
   "source": [
    "import numpy as np\n",
    "import torch\n",
    "\n",
    "@torch.no_grad()\n",
    "def show_image(data, id):\n",
    "    import matplotlib.pyplot as plt\n",
    "    img = data.cpu().numpy()[id]\n",
    "    # expand the batchsize * 2 * 28 * 28 image into batchsize * 3 * 28 * 28 where the 3rd channel is all 0s\n",
    "    img = np.concatenate((img, np.zeros((1, img.shape[1], img.shape[2]))), axis=0)\n",
    "    img = np.transpose(img, (1, 2, 0))\n",
    "    plt.imshow(img)\n",
    "    plt.show()"
   ],
   "metadata": {
    "collapsed": false,
    "pycharm": {
     "name": "#%%\n"
    }
   }
  },
  {
   "cell_type": "code",
   "execution_count": 56,
   "outputs": [
    {
     "name": "stdout",
     "output_type": "stream",
     "text": [
      "tensor([ 1.2817, -0.1877,  1.1823,  0.5514,  0.5829, -0.0219, -0.1521,  0.2972,\n",
      "        -1.0451, -1.1534], device='cuda:4')\n"
     ]
    },
    {
     "data": {
      "text/plain": "<Figure size 640x480 with 1 Axes>",
      "image/png": "[encoded data removed]"
     },
     "metadata": {},
     "output_type": "display_data"
    },
    {
     "data": {
      "text/plain": "<Figure size 640x480 with 1 Axes>",
      "image/png": "[encoded data removed]"
     },
     "metadata": {},
     "output_type": "display_data"
    }
   ],
   "source": [
    "ticp.vae.eval()\n",
    "i = 2\n",
    "with torch.no_grad():\n",
    "    mu, logvar, z = ticp.vae.get_posterior_z(data)\n",
    "    gen_data = ticp.vae.decoder(z)\n",
    "    print(z[i])\n",
    "    intervened_z = z.clone().detach()\n",
    "    # Only features 1 (shape) and 4 (color) matter\n",
    "    intervened_z[i][1] = -4\n",
    "    intervened_z[i][4] = -0.5\n",
    "    intervened_data = ticp.vae.decoder(intervened_z)\n",
    "    show_image(gen_data, i)\n",
    "    show_image(intervened_data, i)"
   ],
   "metadata": {
    "collapsed": false,
    "pycharm": {
     "name": "#%%\n"
    }
   }
  },
  {
   "cell_type": "code",
   "execution_count": 6,
   "outputs": [],
   "source": [],
   "metadata": {
    "collapsed": false,
    "pycharm": {
     "name": "#%%\n"
    }
   }
  }
 ],
 "metadata": {
  "kernelspec": {
   "display_name": "Python 3",
   "language": "python",
   "name": "python3"
  },
  "language_info": {
   "codemirror_mode": {
    "name": "ipython",
    "version": 2
   },
   "file_extension": ".py",
   "mimetype": "text/x-python",
   "name": "python",
   "nbconvert_exporter": "python",
   "pygments_lexer": "ipython2",
   "version": "2.7.6"
  }
 },
 "nbformat": 4,
 "nbformat_minor": 0
}